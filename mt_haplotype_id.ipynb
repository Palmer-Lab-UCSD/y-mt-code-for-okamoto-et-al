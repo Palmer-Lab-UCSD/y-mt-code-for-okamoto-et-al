{
 "cells": [
  {
   "cell_type": "markdown",
   "metadata": {},
   "source": [
    "# MT pseudo-alignment to determine founder donors"
   ]
  },
  {
   "cell_type": "markdown",
   "metadata": {},
   "source": [
    "Imports."
   ]
  },
  {
   "cell_type": "code",
   "execution_count": 1,
   "metadata": {},
   "outputs": [
    {
     "name": "stdout",
     "output_type": "stream",
     "text": [
      "\n",
      "This I/O helper file uses:\n",
      "Python version 3.10.11 (tags/v3.10.11:7d4cc5a, Apr  5 2023, 00:38:17) [MSC v.1929 64 bit (AMD64)],\n",
      "Matplotlib version 3.7.1,\n",
      "pandas version 1.5.3\n",
      "\n",
      "\n",
      "This genotype helper file adds:\n",
      "NumPy version 1.24.3,\n",
      "pyMSAviz version 0.4.0,\n",
      "scikit-allel version 1.3.6\n",
      "\n"
     ]
    }
   ],
   "source": [
    "import numpy as np # data management\n",
    "import pandas as pd # data management\n",
    "\n",
    "import genotype_helpers # genotype processing\n",
    "import io_helpers # file I/O"
   ]
  },
  {
   "cell_type": "markdown",
   "metadata": {},
   "source": [
    "Load unfiltered genotypes."
   ]
  },
  {
   "cell_type": "code",
   "execution_count": 2,
   "metadata": {},
   "outputs": [
    {
     "name": "stdout",
     "output_type": "stream",
     "text": [
      "Read 117 variants across 15120 samples\n",
      "Filtering out 0 variants for INFO score < 0.85\n",
      "Genotypes for 15120 rats across 117 variants\n"
     ]
    }
   ],
   "source": [
    "mt_modern = genotype_helpers.get_genotypes(\n",
    "    genotype_helpers.SHALLOW_MODERN_FILE, 'MT', format='nucleotide',\n",
    "    \n",
    "    use_maf_filter=False, use_miss_filter=False\n",
    ")"
   ]
  },
  {
   "cell_type": "code",
   "execution_count": 3,
   "metadata": {},
   "outputs": [
    {
     "name": "stdout",
     "output_type": "stream",
     "text": [
      "Read 122 variants across 8 samples\n",
      "5 variants removed for not being in the given subset\n",
      "Genotypes for 8 rats across 117 variants\n"
     ]
    }
   ],
   "source": [
    "mt_founders = genotype_helpers.get_genotypes(\n",
    "    genotype_helpers.FOUNDERS_FILE, 'MT', format='nucleotide', \n",
    "    \n",
    "    variant_subset=mt_modern.columns,\n",
    "    use_maf_filter=False, use_miss_filter=False\n",
    "    )"
   ]
  },
  {
   "cell_type": "markdown",
   "metadata": {},
   "source": [
    "Determine MT haplotypes."
   ]
  },
  {
   "cell_type": "code",
   "execution_count": 4,
   "metadata": {},
   "outputs": [
    {
     "name": "stdout",
     "output_type": "stream",
     "text": [
      "There are 2 unique modern haplotypes\n",
      "There are 4 unique founder haplotypes\n",
      "All rats perfectly match at least one haplotype group: True\n"
     ]
    }
   ],
   "source": [
    "unique_mt_modern = mt_modern.dropna(axis=0, how='any').drop_duplicates()\n",
    "\n",
    "print(f'There are {unique_mt_modern.shape[0]} unique modern haplotypes')\n",
    "print(f'There are {len(mt_founders.drop_duplicates().index)}' \n",
    "      ' unique founder haplotypes')\n",
    "\n",
    "group1 = np.logical_or(mt_modern == unique_mt_modern.iloc[0], \n",
    "                       # missing '' calls count as matching\n",
    "                       pd.isna(mt_modern)).all(axis=1)\n",
    "group2 = np.logical_or(mt_modern == unique_mt_modern.iloc[1], \n",
    "                       pd.isna(mt_modern)).all(axis=1)\n",
    "\n",
    "print('All rats perfectly match at least one haplotype group: '\n",
    "      f'{np.logical_or(group1, group2).all()}')"
   ]
  },
  {
   "cell_type": "markdown",
   "metadata": {},
   "source": [
    "Identify founder donors."
   ]
  },
  {
   "cell_type": "code",
   "execution_count": 5,
   "metadata": {},
   "outputs": [
    {
     "data": {
      "text/plain": [
       "ACI     False\n",
       "BN       True\n",
       "BUF     False\n",
       "F344    False\n",
       "M520    False\n",
       "MR      False\n",
       "WKY     False\n",
       "WN      False\n",
       "dtype: bool"
      ]
     },
     "execution_count": 5,
     "metadata": {},
     "output_type": "execute_result"
    }
   ],
   "source": [
    "mt_founders.eq(unique_mt_modern.iloc[0]).all(axis=1)"
   ]
  },
  {
   "cell_type": "code",
   "execution_count": 6,
   "metadata": {},
   "outputs": [
    {
     "data": {
      "text/plain": [
       "ACI     False\n",
       "BN      False\n",
       "BUF      True\n",
       "F344     True\n",
       "M520     True\n",
       "MR       True\n",
       "WKY     False\n",
       "WN       True\n",
       "dtype: bool"
      ]
     },
     "execution_count": 6,
     "metadata": {},
     "output_type": "execute_result"
    }
   ],
   "source": [
    "mt_founders.eq(unique_mt_modern.iloc[1]).all(axis=1)"
   ]
  },
  {
   "cell_type": "code",
   "execution_count": 7,
   "metadata": {},
   "outputs": [
    {
     "name": "stdout",
     "output_type": "stream",
     "text": [
      "Filtering out 40 variants for MAF=0\n"
     ]
    },
    {
     "data": {
      "text/html": [
       "<div>\n",
       "<style scoped>\n",
       "    .dataframe tbody tr th:only-of-type {\n",
       "        vertical-align: middle;\n",
       "    }\n",
       "\n",
       "    .dataframe tbody tr th {\n",
       "        vertical-align: top;\n",
       "    }\n",
       "\n",
       "    .dataframe thead th {\n",
       "        text-align: right;\n",
       "    }\n",
       "</style>\n",
       "<table border=\"1\" class=\"dataframe\">\n",
       "  <thead>\n",
       "    <tr style=\"text-align: right;\">\n",
       "      <th></th>\n",
       "      <th>POS</th>\n",
       "      <th>REF</th>\n",
       "      <th>ALT</th>\n",
       "      <th>#CHROM</th>\n",
       "      <th>ID</th>\n",
       "      <th>QUAL</th>\n",
       "      <th>FILTER</th>\n",
       "      <th>INFO</th>\n",
       "    </tr>\n",
       "  </thead>\n",
       "  <tbody>\n",
       "    <tr>\n",
       "      <th>0</th>\n",
       "      <td>648</td>\n",
       "      <td>A</td>\n",
       "      <td>C</td>\n",
       "      <td>NC_001665.2</td>\n",
       "      <td>MT:648</td>\n",
       "      <td>50</td>\n",
       "      <td>PASS</td>\n",
       "      <td>.</td>\n",
       "    </tr>\n",
       "    <tr>\n",
       "      <th>1</th>\n",
       "      <td>935</td>\n",
       "      <td>G</td>\n",
       "      <td>A</td>\n",
       "      <td>NC_001665.2</td>\n",
       "      <td>MT:935</td>\n",
       "      <td>50</td>\n",
       "      <td>PASS</td>\n",
       "      <td>.</td>\n",
       "    </tr>\n",
       "    <tr>\n",
       "      <th>2</th>\n",
       "      <td>942</td>\n",
       "      <td>T</td>\n",
       "      <td>C</td>\n",
       "      <td>NC_001665.2</td>\n",
       "      <td>MT:942</td>\n",
       "      <td>50</td>\n",
       "      <td>PASS</td>\n",
       "      <td>.</td>\n",
       "    </tr>\n",
       "    <tr>\n",
       "      <th>3</th>\n",
       "      <td>1099</td>\n",
       "      <td>T</td>\n",
       "      <td>C</td>\n",
       "      <td>NC_001665.2</td>\n",
       "      <td>MT:1099</td>\n",
       "      <td>50</td>\n",
       "      <td>PASS</td>\n",
       "      <td>.</td>\n",
       "    </tr>\n",
       "    <tr>\n",
       "      <th>4</th>\n",
       "      <td>1223</td>\n",
       "      <td>G</td>\n",
       "      <td>A</td>\n",
       "      <td>NC_001665.2</td>\n",
       "      <td>MT:1223</td>\n",
       "      <td>50</td>\n",
       "      <td>PASS</td>\n",
       "      <td>.</td>\n",
       "    </tr>\n",
       "    <tr>\n",
       "      <th>...</th>\n",
       "      <td>...</td>\n",
       "      <td>...</td>\n",
       "      <td>...</td>\n",
       "      <td>...</td>\n",
       "      <td>...</td>\n",
       "      <td>...</td>\n",
       "      <td>...</td>\n",
       "      <td>...</td>\n",
       "    </tr>\n",
       "    <tr>\n",
       "      <th>72</th>\n",
       "      <td>15507</td>\n",
       "      <td>T</td>\n",
       "      <td>C</td>\n",
       "      <td>NC_001665.2</td>\n",
       "      <td>MT:15507</td>\n",
       "      <td>50</td>\n",
       "      <td>PASS</td>\n",
       "      <td>.</td>\n",
       "    </tr>\n",
       "    <tr>\n",
       "      <th>73</th>\n",
       "      <td>15549</td>\n",
       "      <td>T</td>\n",
       "      <td>C</td>\n",
       "      <td>NC_001665.2</td>\n",
       "      <td>MT:15549</td>\n",
       "      <td>50</td>\n",
       "      <td>PASS</td>\n",
       "      <td>.</td>\n",
       "    </tr>\n",
       "    <tr>\n",
       "      <th>74</th>\n",
       "      <td>15568</td>\n",
       "      <td>G</td>\n",
       "      <td>A</td>\n",
       "      <td>NC_001665.2</td>\n",
       "      <td>MT:15568</td>\n",
       "      <td>50</td>\n",
       "      <td>PASS</td>\n",
       "      <td>.</td>\n",
       "    </tr>\n",
       "    <tr>\n",
       "      <th>75</th>\n",
       "      <td>15579</td>\n",
       "      <td>A</td>\n",
       "      <td>G</td>\n",
       "      <td>NC_001665.2</td>\n",
       "      <td>MT:15579</td>\n",
       "      <td>50</td>\n",
       "      <td>PASS</td>\n",
       "      <td>.</td>\n",
       "    </tr>\n",
       "    <tr>\n",
       "      <th>76</th>\n",
       "      <td>15814</td>\n",
       "      <td>T</td>\n",
       "      <td>C</td>\n",
       "      <td>NC_001665.2</td>\n",
       "      <td>MT:15814</td>\n",
       "      <td>50</td>\n",
       "      <td>PASS</td>\n",
       "      <td>.</td>\n",
       "    </tr>\n",
       "  </tbody>\n",
       "</table>\n",
       "<p>77 rows × 8 columns</p>\n",
       "</div>"
      ],
      "text/plain": [
       "      POS REF ALT       #CHROM        ID  QUAL FILTER INFO\n",
       "0     648   A   C  NC_001665.2    MT:648    50   PASS    .\n",
       "1     935   G   A  NC_001665.2    MT:935    50   PASS    .\n",
       "2     942   T   C  NC_001665.2    MT:942    50   PASS    .\n",
       "3    1099   T   C  NC_001665.2   MT:1099    50   PASS    .\n",
       "4    1223   G   A  NC_001665.2   MT:1223    50   PASS    .\n",
       "..    ...  ..  ..          ...       ...   ...    ...  ...\n",
       "72  15507   T   C  NC_001665.2  MT:15507    50   PASS    .\n",
       "73  15549   T   C  NC_001665.2  MT:15549    50   PASS    .\n",
       "74  15568   G   A  NC_001665.2  MT:15568    50   PASS    .\n",
       "75  15579   A   G  NC_001665.2  MT:15579    50   PASS    .\n",
       "76  15814   T   C  NC_001665.2  MT:15814    50   PASS    .\n",
       "\n",
       "[77 rows x 8 columns]"
      ]
     },
     "execution_count": 7,
     "metadata": {},
     "output_type": "execute_result"
    }
   ],
   "source": [
    "mt_snps = genotype_helpers.filter_maf(unique_mt_modern)\n",
    "\n",
    "# format with SNPs as rows and haplotypes as columns\n",
    "mt_snps = mt_snps.reset_index(drop=True).T\n",
    "mt_snps.columns = ['REF', 'ALT']\n",
    "mt_snps.reset_index(names='POS', inplace=True)\n",
    "\n",
    "genotype_helpers.write_snp_vcf(mt_snps, 'MT')\n",
    "mt_snps"
   ]
  },
  {
   "cell_type": "markdown",
   "metadata": {},
   "source": [
    "Create MT pseudo-alignment. This is *Figure 2D*."
   ]
  },
  {
   "cell_type": "code",
   "execution_count": 8,
   "metadata": {},
   "outputs": [
    {
     "data": {
      "image/png": "[encoded data removed]",
      "text/plain": [
       "<Figure size 1638x160 with 1 Axes>"
      ]
     },
     "metadata": {},
     "output_type": "display_data"
    }
   ],
   "source": [
    "mt_founders = mt_founders.loc[['MR', 'WN', 'M520', 'F344',\n",
    "                               'BUF', 'ACI', 'WKY', 'BN']]\n",
    "\n",
    "fig = genotype_helpers.plot_align(mt_founders, basename='all_MT')\n",
    "\n",
    "io_helpers.save_plot('all_MT_MSA')"
   ]
  }
 ],
 "metadata": {
  "kernelspec": {
   "display_name": "Python 3",
   "language": "python",
   "name": "python3"
  },
  "language_info": {
   "codemirror_mode": {
    "name": "ipython",
    "version": 3
   },
   "file_extension": ".py",
   "mimetype": "text/x-python",
   "name": "python",
   "nbconvert_exporter": "python",
   "pygments_lexer": "ipython3",
   "version": "3.10.11"
  },
  "orig_nbformat": 4
 },
 "nbformat": 4,
 "nbformat_minor": 2
}
