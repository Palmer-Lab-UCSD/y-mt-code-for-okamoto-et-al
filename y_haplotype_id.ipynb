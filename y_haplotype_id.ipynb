{
 "cells": [
  {
   "cell_type": "markdown",
   "id": "9af5043a",
   "metadata": {},
   "source": [
    "# Y pseudo-alignment to determine founder donors\n",
    "\n",
    "Imports."
   ]
  },
  {
   "cell_type": "code",
   "execution_count": 1,
   "id": "c3819f71-9311-4075-8f0b-c725d96ab12e",
   "metadata": {},
   "outputs": [
    {
     "name": "stdout",
     "output_type": "stream",
     "text": [
      "\n",
      "This I/O helper file uses:\n",
      "Python version 3.10.11 (tags/v3.10.11:7d4cc5a, Apr  5 2023, 00:38:17) [MSC v.1929 64 bit (AMD64)],\n",
      "Matplotlib version 3.7.1,\n",
      "pandas version 1.5.3\n",
      "\n",
      "\n",
      "This genotype helper file adds:\n",
      "NumPy version 1.24.3,\n",
      "pyMSAviz version 0.4.0,\n",
      "scikit-allel version 1.3.6\n",
      "\n"
     ]
    }
   ],
   "source": [
    "import matplotlib.pyplot as plt # make simple visualizations\n",
    "import pandas as pd # data management\n",
    "\n",
    "import genotype_helpers # genotype processing\n",
    "import io_helpers # file I/O\n",
    "\n",
    "from genotype_helpers import Genotypes # type hinting"
   ]
  },
  {
   "cell_type": "markdown",
   "id": "7630d6f9-a9d1-41d0-9707-aba8d5590a0c",
   "metadata": {},
   "source": [
    "Constants."
   ]
  },
  {
   "cell_type": "code",
   "execution_count": 2,
   "id": "83325bc9-44f8-439b-a11f-006d7b5aa9c4",
   "metadata": {},
   "outputs": [],
   "source": [
    "y_groups = io_helpers.load_haplogroups('Y')\n",
    "y1_modern_ids = y_groups.index[y_groups == 'Y1']\n",
    "y2_modern_ids = y_groups.index[y_groups == 'Y2']\n",
    "\n",
    "# order in which founders appear in Fig 1A from nj_trees.ipynb\n",
    "y1_founder_names = ['BN', 'MR', 'ACI']\n",
    "y2_founder_names = ['WN', 'BUF', 'WKY', 'M520', 'F344']"
   ]
  },
  {
   "cell_type": "markdown",
   "id": "f965de1f-4c74-4478-8d65-0b6d14267ad3",
   "metadata": {},
   "source": [
    "Helper functions"
   ]
  },
  {
   "cell_type": "code",
   "execution_count": 3,
   "id": "3d9e7ec4-4c61-4c43-a291-d5780f45b81f",
   "metadata": {},
   "outputs": [],
   "source": [
    "def get_consensus_row(df: pd.DataFrame) -> pd.Series: return df.mode().loc[0]\n",
    "\n",
    "def plot_num_deviants(geno: Genotypes, haplotype: str, ax: plt.Axes, \n",
    "                      tag: str) -> None:\n",
    "    \"\"\"Make and save a plot of deviations from the consensus.\n",
    "\n",
    "    The plot show position along chromosome vs. number of samples\n",
    "    with a (nonmissing) non-consensus genotype call.\n",
    "\n",
    "    Parameters\n",
    "    ----------\n",
    "    geno: Genotypes\n",
    "        Genotypes as a (samples x variants) shape data frame.\n",
    "    haplotype: str\n",
    "        Name of this modern haplotype.\n",
    "    ax: plt.Axes\n",
    "        Axes to plot on.\n",
    "    tag: str\n",
    "        Letter to use as a panel tag on the top left.\n",
    "    \"\"\"\n",
    "    \n",
    "    # mismatches + NAs minus NAs leaves just mismatches\n",
    "    num_deviants = (~geno.eq(get_consensus_row(geno))).sum() - geno.isna().sum()\n",
    "\n",
    "    ax.scatter(range(geno.shape[1]), num_deviants)\n",
    "    ax.set_xticks([])\n",
    "\n",
    "    ax.set_title(f'{haplotype} rats deviating from consensus')\n",
    "    ax.set_xlabel('Position along chrY')\n",
    "    ax.set_ylabel(f'Count of {haplotype} rats')\n",
    "\n",
    "    io_helpers.write_panel_tag(tag, -0.1, 1.15, ax=ax)"
   ]
  },
  {
   "cell_type": "markdown",
   "id": "30f76a71",
   "metadata": {},
   "source": [
    "Load genotypes as when making groups, but keep in SNPs with MAF=0. \n",
    "This retains variants which are fixed in modern samples."
   ]
  },
  {
   "cell_type": "code",
   "execution_count": 4,
   "id": "214f0e18",
   "metadata": {},
   "outputs": [
    {
     "name": "stdout",
     "output_type": "stream",
     "text": [
      "Read 5227 variants across 15120 samples\n",
      "7637 samples removed for not being male\n",
      "Filtering out 300 variants for INFO score < 0.5\n",
      "Filtering out 670 variants for % nonmissing calls < 75\n",
      "Filtering out 10 samples for % nonmissing calls < 50\n",
      "Genotypes for 7473 rats across 4257 variants\n"
     ]
    }
   ],
   "source": [
    "y_modern = genotype_helpers.get_genotypes(\n",
    "    genotype_helpers.SHALLOW_MODERN_FILE, 'Y', format='nucleotide',\n",
    "\n",
    "    use_maf_filter=False\n",
    "    )"
   ]
  },
  {
   "cell_type": "code",
   "execution_count": 5,
   "id": "e4ecd40c",
   "metadata": {},
   "outputs": [
    {
     "name": "stdout",
     "output_type": "stream",
     "text": [
      "Read 18499 variants across 8 samples\n",
      "0 samples removed for not being male\n",
      "14242 variants removed for not being in the given subset\n",
      "Genotypes for 8 rats across 4257 variants\n"
     ]
    }
   ],
   "source": [
    "y_founders = genotype_helpers.get_genotypes(\n",
    "    genotype_helpers.FOUNDERS_FILE, 'Y', format='nucleotide',\n",
    "    \n",
    "    variant_subset=y_modern.columns, use_maf_filter=False, use_miss_filter=False\n",
    "    )"
   ]
  },
  {
   "cell_type": "markdown",
   "id": "6ab398c9",
   "metadata": {},
   "source": [
    "Subset founder genotypes to intra-haplogroup SNPs."
   ]
  },
  {
   "cell_type": "code",
   "execution_count": 6,
   "id": "f0386195",
   "metadata": {},
   "outputs": [
    {
     "name": "stdout",
     "output_type": "stream",
     "text": [
      "Filtering out 4232 variants for MAF=0\n",
      "Filtering out 4240 variants for MAF=0\n"
     ]
    }
   ],
   "source": [
    "y1_vary = genotype_helpers.filter_maf(y_founders.loc[y1_founder_names])\n",
    "y2_vary = genotype_helpers.filter_maf(y_founders.loc[y2_founder_names])"
   ]
  },
  {
   "cell_type": "markdown",
   "id": "eaf81e54",
   "metadata": {},
   "source": [
    "Compare modern consensus haplotypes to the founders at intra-haplogroup SNPs."
   ]
  },
  {
   "cell_type": "code",
   "execution_count": 7,
   "id": "8ae887e8",
   "metadata": {},
   "outputs": [
    {
     "data": {
      "text/plain": [
       "BN     False\n",
       "MR      True\n",
       "ACI     True\n",
       "dtype: bool"
      ]
     },
     "execution_count": 7,
     "metadata": {},
     "output_type": "execute_result"
    }
   ],
   "source": [
    "y1_modern_haplo = get_consensus_row(y_modern.loc[y1_modern_ids])\n",
    "y1_vary.eq(y1_modern_haplo.loc[y1_vary.columns]).all(axis=1)"
   ]
  },
  {
   "cell_type": "code",
   "execution_count": 8,
   "id": "01b71929",
   "metadata": {},
   "outputs": [
    {
     "data": {
      "text/plain": [
       "WN      False\n",
       "BUF     False\n",
       "WKY     False\n",
       "M520     True\n",
       "F344    False\n",
       "dtype: bool"
      ]
     },
     "execution_count": 8,
     "metadata": {},
     "output_type": "execute_result"
    }
   ],
   "source": [
    "y2_modern_haplo = get_consensus_row(y_modern.loc[y2_modern_ids])\n",
    "y2_vary.eq(y2_modern_haplo.loc[y2_vary.columns]).all(axis=1)"
   ]
  },
  {
   "cell_type": "markdown",
   "id": "b01c7e0f",
   "metadata": {},
   "source": [
    "Pseudo-alignments."
   ]
  },
  {
   "cell_type": "code",
   "execution_count": 9,
   "id": "124311cb",
   "metadata": {},
   "outputs": [
    {
     "data": {
      "image/png": "[encoded data removed]",
      "text/plain": [
       "<Figure size 350x60 with 1 Axes>"
      ]
     },
     "metadata": {},
     "output_type": "display_data"
    },
    {
     "data": {
      "image/png": "[encoded data removed]",
      "text/plain": [
       "<Figure size 238x60 with 1 Axes>"
      ]
     },
     "metadata": {},
     "output_type": "display_data"
    },
    {
     "data": {
      "image/png": "[encoded data removed]",
      "text/plain": [
       "<Figure size 350x100 with 1 Axes>"
      ]
     },
     "metadata": {},
     "output_type": "display_data"
    },
    {
     "data": {
      "image/png": "[encoded data removed]",
      "text/plain": [
       "<Figure size 238x100 with 1 Axes>"
      ]
     },
     "metadata": {},
     "output_type": "display_data"
    }
   ],
   "source": [
    "for name_group in ['Y1', 'Y2']:\n",
    "    names = y1_founder_names if name_group == 'Y1' else y2_founder_names\n",
    "    for vary_pos_group in ['Y1', 'Y2']:\n",
    "        pos = y1_vary.columns if vary_pos_group == 'Y1' else y2_vary.columns\n",
    "        basename = f'{name_group}_founders_{vary_pos_group}_vary_pos'\n",
    "        fig = genotype_helpers.plot_align(y_founders.loc[names, pos], \n",
    "                                          basename=basename)\n",
    "        io_helpers.save_plot(basename, figure=fig)"
   ]
  },
  {
   "cell_type": "markdown",
   "id": "7b648210",
   "metadata": {},
   "source": [
    "Check for devation from the consensus haplotypes. This is *Figure S7*."
   ]
  },
  {
   "cell_type": "code",
   "execution_count": 10,
   "id": "fa4fb506",
   "metadata": {},
   "outputs": [
    {
     "data": {
      "image/png": "[encoded data removed]",
      "text/plain": [
       "<Figure size 800x300 with 2 Axes>"
      ]
     },
     "metadata": {},
     "output_type": "display_data"
    }
   ],
   "source": [
    "fig, (ax1, ax2) = plt.subplots(nrows=1, ncols=2)\n",
    "plot_num_deviants(y_modern.loc[y1_modern_ids], 'Y1', ax1, tag='A')\n",
    "plot_num_deviants(y_modern.loc[y2_modern_ids], 'Y2', ax2, tag='B')\n",
    "\n",
    "fig.set_size_inches(8, 3)\n",
    "io_helpers.save_plot('Y_deviants', extension='png')"
   ]
  },
  {
   "cell_type": "markdown",
   "id": "69a0e7ac",
   "metadata": {},
   "source": [
    "Find SNPs between the modern consensuses."
   ]
  },
  {
   "cell_type": "code",
   "execution_count": 11,
   "id": "7361a27f",
   "metadata": {},
   "outputs": [
    {
     "name": "stdout",
     "output_type": "stream",
     "text": [
      "Filtering out 127 variants for MAF=0\n"
     ]
    },
    {
     "data": {
      "text/html": [
       "<div>\n",
       "<style scoped>\n",
       "    .dataframe tbody tr th:only-of-type {\n",
       "        vertical-align: middle;\n",
       "    }\n",
       "\n",
       "    .dataframe tbody tr th {\n",
       "        vertical-align: top;\n",
       "    }\n",
       "\n",
       "    .dataframe thead th {\n",
       "        text-align: right;\n",
       "    }\n",
       "</style>\n",
       "<table border=\"1\" class=\"dataframe\">\n",
       "  <thead>\n",
       "    <tr style=\"text-align: right;\">\n",
       "      <th></th>\n",
       "      <th>POS</th>\n",
       "      <th>REF</th>\n",
       "      <th>ALT</th>\n",
       "      <th>#CHROM</th>\n",
       "      <th>ID</th>\n",
       "      <th>QUAL</th>\n",
       "      <th>FILTER</th>\n",
       "      <th>INFO</th>\n",
       "    </tr>\n",
       "  </thead>\n",
       "  <tbody>\n",
       "    <tr>\n",
       "      <th>0</th>\n",
       "      <td>6860</td>\n",
       "      <td>T</td>\n",
       "      <td>C</td>\n",
       "      <td>NC_051357.1</td>\n",
       "      <td>Y:6860</td>\n",
       "      <td>50</td>\n",
       "      <td>PASS</td>\n",
       "      <td>.</td>\n",
       "    </tr>\n",
       "    <tr>\n",
       "      <th>1</th>\n",
       "      <td>7004</td>\n",
       "      <td>G</td>\n",
       "      <td>A</td>\n",
       "      <td>NC_051357.1</td>\n",
       "      <td>Y:7004</td>\n",
       "      <td>50</td>\n",
       "      <td>PASS</td>\n",
       "      <td>.</td>\n",
       "    </tr>\n",
       "    <tr>\n",
       "      <th>2</th>\n",
       "      <td>13169</td>\n",
       "      <td>C</td>\n",
       "      <td>A</td>\n",
       "      <td>NC_051357.1</td>\n",
       "      <td>Y:13169</td>\n",
       "      <td>50</td>\n",
       "      <td>PASS</td>\n",
       "      <td>.</td>\n",
       "    </tr>\n",
       "    <tr>\n",
       "      <th>3</th>\n",
       "      <td>18030</td>\n",
       "      <td>T</td>\n",
       "      <td>C</td>\n",
       "      <td>NC_051357.1</td>\n",
       "      <td>Y:18030</td>\n",
       "      <td>50</td>\n",
       "      <td>PASS</td>\n",
       "      <td>.</td>\n",
       "    </tr>\n",
       "    <tr>\n",
       "      <th>4</th>\n",
       "      <td>21091</td>\n",
       "      <td>G</td>\n",
       "      <td>A</td>\n",
       "      <td>NC_051357.1</td>\n",
       "      <td>Y:21091</td>\n",
       "      <td>50</td>\n",
       "      <td>PASS</td>\n",
       "      <td>.</td>\n",
       "    </tr>\n",
       "    <tr>\n",
       "      <th>...</th>\n",
       "      <td>...</td>\n",
       "      <td>...</td>\n",
       "      <td>...</td>\n",
       "      <td>...</td>\n",
       "      <td>...</td>\n",
       "      <td>...</td>\n",
       "      <td>...</td>\n",
       "      <td>...</td>\n",
       "    </tr>\n",
       "    <tr>\n",
       "      <th>4125</th>\n",
       "      <td>18285155</td>\n",
       "      <td>T</td>\n",
       "      <td>A</td>\n",
       "      <td>NC_051357.1</td>\n",
       "      <td>Y:18285155</td>\n",
       "      <td>50</td>\n",
       "      <td>PASS</td>\n",
       "      <td>.</td>\n",
       "    </tr>\n",
       "    <tr>\n",
       "      <th>4126</th>\n",
       "      <td>18285249</td>\n",
       "      <td>T</td>\n",
       "      <td>G</td>\n",
       "      <td>NC_051357.1</td>\n",
       "      <td>Y:18285249</td>\n",
       "      <td>50</td>\n",
       "      <td>PASS</td>\n",
       "      <td>.</td>\n",
       "    </tr>\n",
       "    <tr>\n",
       "      <th>4127</th>\n",
       "      <td>18287038</td>\n",
       "      <td>A</td>\n",
       "      <td>T</td>\n",
       "      <td>NC_051357.1</td>\n",
       "      <td>Y:18287038</td>\n",
       "      <td>50</td>\n",
       "      <td>PASS</td>\n",
       "      <td>.</td>\n",
       "    </tr>\n",
       "    <tr>\n",
       "      <th>4128</th>\n",
       "      <td>18292245</td>\n",
       "      <td>A</td>\n",
       "      <td>C</td>\n",
       "      <td>NC_051357.1</td>\n",
       "      <td>Y:18292245</td>\n",
       "      <td>50</td>\n",
       "      <td>PASS</td>\n",
       "      <td>.</td>\n",
       "    </tr>\n",
       "    <tr>\n",
       "      <th>4129</th>\n",
       "      <td>18294155</td>\n",
       "      <td>A</td>\n",
       "      <td>G</td>\n",
       "      <td>NC_051357.1</td>\n",
       "      <td>Y:18294155</td>\n",
       "      <td>50</td>\n",
       "      <td>PASS</td>\n",
       "      <td>.</td>\n",
       "    </tr>\n",
       "  </tbody>\n",
       "</table>\n",
       "<p>4130 rows × 8 columns</p>\n",
       "</div>"
      ],
      "text/plain": [
       "           POS REF ALT       #CHROM          ID  QUAL FILTER INFO\n",
       "0         6860   T   C  NC_051357.1      Y:6860    50   PASS    .\n",
       "1         7004   G   A  NC_051357.1      Y:7004    50   PASS    .\n",
       "2        13169   C   A  NC_051357.1     Y:13169    50   PASS    .\n",
       "3        18030   T   C  NC_051357.1     Y:18030    50   PASS    .\n",
       "4        21091   G   A  NC_051357.1     Y:21091    50   PASS    .\n",
       "...        ...  ..  ..          ...         ...   ...    ...  ...\n",
       "4125  18285155   T   A  NC_051357.1  Y:18285155    50   PASS    .\n",
       "4126  18285249   T   G  NC_051357.1  Y:18285249    50   PASS    .\n",
       "4127  18287038   A   T  NC_051357.1  Y:18287038    50   PASS    .\n",
       "4128  18292245   A   C  NC_051357.1  Y:18292245    50   PASS    .\n",
       "4129  18294155   A   G  NC_051357.1  Y:18294155    50   PASS    .\n",
       "\n",
       "[4130 rows x 8 columns]"
      ]
     },
     "execution_count": 11,
     "metadata": {},
     "output_type": "execute_result"
    }
   ],
   "source": [
    "y_modern_haplos = pd.concat([y1_modern_haplo, y2_modern_haplo], axis=1).T\n",
    "y_snps = genotype_helpers.filter_maf(y_modern_haplos)\n",
    "\n",
    "# format for VCF\n",
    "y_snps.index = ['REF', 'ALT']\n",
    "y_snps = y_snps.T.reset_index(names='POS')\n",
    "genotype_helpers.write_snp_vcf(y_snps, 'Y')\n",
    "y_snps"
   ]
  }
 ],
 "metadata": {
  "kernelspec": {
   "display_name": "Python 3 (ipykernel)",
   "language": "python",
   "name": "python3"
  },
  "language_info": {
   "codemirror_mode": {
    "name": "ipython",
    "version": 3
   },
   "file_extension": ".py",
   "mimetype": "text/x-python",
   "name": "python",
   "nbconvert_exporter": "python",
   "pygments_lexer": "ipython3",
   "version": "3.10.11"
  }
 },
 "nbformat": 4,
 "nbformat_minor": 5
}
