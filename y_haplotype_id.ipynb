{
 "cells": [
  {
   "cell_type": "markdown",
   "id": "9af5043a",
   "metadata": {},
   "source": [
    "# Y pseudo-alignment to determine founder donors"
   ]
  },
  {
   "cell_type": "markdown",
   "id": "9cb1de6b",
   "metadata": {},
   "source": [
    "Imports."
   ]
  },
  {
   "cell_type": "code",
   "execution_count": 1,
   "id": "c3819f71-9311-4075-8f0b-c725d96ab12e",
   "metadata": {},
   "outputs": [
    {
     "name": "stdout",
     "output_type": "stream",
     "text": [
      "\n",
      "This helper file uses:\n",
      "Python version 3.10.11 (tags/v3.10.11:7d4cc5a, Apr  5 2023, 00:38:17) [MSC v.1929 64 bit (AMD64)],\n",
      "Matplotlib version 3.7.1, \n",
      "NumPy version 1.24.3,\n",
      "pandas version 1.5.3, \n",
      "pyMSAviz version 0.4.0,\n",
      "scikit-allel version 1.3.6\n",
      "\n"
     ]
    }
   ],
   "source": [
    "import matplotlib.pyplot as plt # make simple visualizations\n",
    "import numpy as np # data management\n",
    "import pandas as pd # data management\n",
    "\n",
    "import genotype_helpers # various helper functions & constants\n",
    "from genotype_helpers import Genotypes # type hinting"
   ]
  },
  {
   "cell_type": "markdown",
   "id": "7630d6f9-a9d1-41d0-9707-aba8d5590a0c",
   "metadata": {},
   "source": [
    "Prepare lists of IDs by Y haplotype."
   ]
  },
  {
   "cell_type": "code",
   "execution_count": 2,
   "id": "83325bc9-44f8-439b-a11f-006d7b5aa9c4",
   "metadata": {},
   "outputs": [],
   "source": [
    "y_groups = pd.read_csv(genotype_helpers.Y_GROUPS_FILE)\n",
    "y1_ids = y_groups.loc[y_groups['Y_group'] == 'Y1 (ACI)', 'rfid']\n",
    "y2_ids = y_groups.loc[y_groups['Y_group'] == 'Y2 (M520)', 'rfid']"
   ]
  },
  {
   "cell_type": "markdown",
   "id": "f965de1f-4c74-4478-8d65-0b6d14267ad3",
   "metadata": {},
   "source": [
    "Helper functions"
   ]
  },
  {
   "cell_type": "code",
   "execution_count": 3,
   "id": "3d9e7ec4-4c61-4c43-a291-d5780f45b81f",
   "metadata": {},
   "outputs": [],
   "source": [
    "def align_modern_where_founders_vary(founders: Genotypes, modern: Genotypes,\n",
    "                                     haplotype: str, width: float) -> pd.Series:\n",
    "    \"\"\"Make and save a pseudo-alignment at SNPs where founders vary.\n",
    "\n",
    "    At all SNPs where the founders have variation, find the most\n",
    "    common allele among modern samples; this is the modern haplotype.\n",
    "    The modern haplotype is pseudo-aligned above all founder samples.\n",
    "\n",
    "    Entropy of the consensus haplotype at each position is plotted \n",
    "    in a bar chart which is meant to go above the pseudo-alignment.\n",
    "\n",
    "    Parameters\n",
    "    ----------\n",
    "    founders: Genotypes\n",
    "        Founder genotypes as a (samples x variants) shape data frame.\n",
    "    modern: pd.DataFrame\n",
    "        Modern genotypes as a (samples x variants) shape data frame.\n",
    "    haplotype: str\n",
    "        Name of this modern haplotype.\n",
    "    width: float\n",
    "        Width of the entropy plot (height is 1).\n",
    "    \n",
    "    Returns\n",
    "    -------\n",
    "    modern_consensus: pd.Series\n",
    "        Consensus modern haplotype that was aligned.\n",
    "    \"\"\"\n",
    "\n",
    "    # ---- pseudo-alignment ----\n",
    "\n",
    "    # determine founder sequences at SNPs with variation\n",
    "    founder_seqs = genotype_helpers.filter_maf(founders)\n",
    "    vary_pos = founder_seqs.columns\n",
    "\n",
    "    # determine modern consensus haplotype\n",
    "    modern_consensus = modern[vary_pos].mode()\n",
    "    modern_consensus.index = [f'{haplotype}(modern)']\n",
    "    \n",
    "    # put modern haplotype above founders\n",
    "    genotype_helpers.plot_align(pd.concat((modern_consensus, founder_seqs)), \n",
    "                                basename = haplotype)\n",
    "    genotype_helpers.save_plot(f'{haplotype}_align')\n",
    "\n",
    "    # ---- entropy barchart ----\n",
    "\n",
    "    def calc_entropy(vals):\n",
    "        \"\"\"Calculate Shannon entropy of biallelic SNP frequencies.\"\"\"\n",
    "        counts = vals.value_counts()\n",
    "        freqs = counts / counts.sum()\n",
    "        return np.log2(2) + sum((freqs * np.log2(freqs)))\n",
    "    \n",
    "    plt.figure(figsize = (width, 1))\n",
    "    plt.bar(range(len(vary_pos)), modern[vary_pos].apply(calc_entropy))\n",
    "    # bar chart has no labels\n",
    "    plt.axis('off')\n",
    "\n",
    "    genotype_helpers.save_plot(f'{haplotype}_entropy')\n",
    "\n",
    "    return modern_consensus.iloc[0]\n",
    "\n",
    "def plot_num_deviation(geno: Genotypes, haplotype: str) -> pd.Series:\n",
    "    \"\"\"Make and save a plot of deviations from the consensus.\n",
    "\n",
    "    The plot show chromosome position on the X-axis and number of\n",
    "    samples with a nonmissing mismatching genotype call.\n",
    "\n",
    "    Parameters\n",
    "    ----------\n",
    "    gneo: Genotypes\n",
    "        Genotypes as a (samples x variants) shape data frame.\n",
    "    haplotype: str\n",
    "        Name of this modern haplotype.\n",
    "    \n",
    "    Returns\n",
    "    -------\n",
    "    num_deviants: pd.Series\n",
    "        Number of deviants for all SNPs with at least 10.\n",
    "    \"\"\"\n",
    "\n",
    "    def count_deviants(vals):\n",
    "        \"\"\"Count mismatches to the consensus, ignoring missingness\"\"\"\n",
    "        counts = vals.value_counts()\n",
    "        return 0 if len(counts) == 1 else counts.min()\n",
    "    \n",
    "    num_deviants = geno.apply(count_deviants)\n",
    "\n",
    "    plt.figure()\n",
    "    plt.scatter(range(geno.shape[1]), num_deviants)\n",
    "    plt.xticks([])\n",
    "\n",
    "    plt.title(f'{haplotype} rats deviating from the consensus haplotype')\n",
    "    plt.ylabel(f'Count of {haplotype} rats')\n",
    "\n",
    "    genotype_helpers.save_plot(f'{haplotype}_mismatches')\n",
    "\n",
    "    return num_deviants[num_deviants >= 10].rename('num_deviants')"
   ]
  },
  {
   "cell_type": "markdown",
   "id": "30f76a71",
   "metadata": {},
   "source": [
    "Load genotypes as when making groups, but keep in SNPs with MAF=0. \n",
    "This retains variants which are fixed in modern samples."
   ]
  },
  {
   "cell_type": "code",
   "execution_count": 4,
   "id": "214f0e18",
   "metadata": {},
   "outputs": [
    {
     "name": "stdout",
     "output_type": "stream",
     "text": [
      "Read 5227 variants across 15120 samples\n",
      "7637 samples removed for not being male\n",
      "Filtering out 300 variants for INFO score < 0.5\n",
      "Filtering out 670 variants for % nonmissing calls < 75\n",
      "Filtering out 10 samples for % nonmissing calls < 50\n",
      "Genotypes for 7473 rats across 4257 variants\n"
     ]
    }
   ],
   "source": [
    "y_shallow_modern = genotype_helpers.get_genotypes(\n",
    "    genotype_helpers.SHALLOW_MODERN_FILE, 'Y', format = 'nucleotide',\n",
    "\n",
    "    use_maf_filter = False\n",
    "    )"
   ]
  },
  {
   "cell_type": "code",
   "execution_count": 5,
   "id": "e4ecd40c",
   "metadata": {},
   "outputs": [
    {
     "name": "stdout",
     "output_type": "stream",
     "text": [
      "Read 18499 variants across 8 samples\n",
      "0 samples removed for not being male\n",
      "14242 variants removed for not being in the given subset\n",
      "Genotypes for 8 rats across 4257 variants\n"
     ]
    }
   ],
   "source": [
    "y_founders = genotype_helpers.get_genotypes(\n",
    "    genotype_helpers.FOUNDERS_FILE, 'Y', format = 'nucleotide',\n",
    "    \n",
    "    variant_subset = y_shallow_modern.columns, \n",
    "    use_maf_filter = False, use_miss_filter = False\n",
    "    )"
   ]
  },
  {
   "cell_type": "code",
   "execution_count": 6,
   "id": "26b74387",
   "metadata": {},
   "outputs": [
    {
     "name": "stdout",
     "output_type": "stream",
     "text": [
      "Read 22477 variants across 88 samples\n",
      "44 samples removed for not being male\n",
      "18270 variants removed for not being in the given subset\n",
      "Genotypes for 44 rats across 4207 variants\n"
     ]
    }
   ],
   "source": [
    "y_deep_modern = genotype_helpers.get_genotypes(\n",
    "    genotype_helpers.DEEP_MODERN_FILE, 'Y', format = 'nucleotide',\n",
    "    \n",
    "    variant_subset = y_shallow_modern.columns, \n",
    "    use_maf_filter = False, use_miss_filter = False\n",
    "    )"
   ]
  },
  {
   "cell_type": "markdown",
   "id": "6ab398c9",
   "metadata": {},
   "source": [
    "Identify founder matches for Y1 rats. This is *Figure 1D*."
   ]
  },
  {
   "cell_type": "code",
   "execution_count": 7,
   "id": "f0386195",
   "metadata": {},
   "outputs": [
    {
     "name": "stdout",
     "output_type": "stream",
     "text": [
      "Filtering out 4232 variants for MAF=0\n"
     ]
    },
    {
     "data": {
      "image/png": "[encoded data removed]",
      "text/plain": [
       "<Figure size 350x80 with 1 Axes>"
      ]
     },
     "metadata": {},
     "output_type": "display_data"
    },
    {
     "data": {
      "image/png": "[encoded data removed]",
      "text/plain": [
       "<Figure size 495x100 with 1 Axes>"
      ]
     },
     "metadata": {},
     "output_type": "display_data"
    }
   ],
   "source": [
    "y1_shallow_consensus = align_modern_where_founders_vary(\n",
    "    y_founders.loc[['ACI', 'MR', 'BN']], y_shallow_modern.loc[y1_ids], \n",
    "    haplotype = 'Y1', width = 4.95\n",
    "    )"
   ]
  },
  {
   "cell_type": "markdown",
   "id": "ad41ff32",
   "metadata": {},
   "source": [
    "Check for significant devation from the consensus Y1 haplotype."
   ]
  },
  {
   "cell_type": "code",
   "execution_count": 8,
   "id": "f78e4e2d",
   "metadata": {},
   "outputs": [
    {
     "data": {
      "text/plain": [
       "Series([], Name: num_deviants, dtype: int64)"
      ]
     },
     "execution_count": 8,
     "metadata": {},
     "output_type": "execute_result"
    },
    {
     "data": {
      "image/png": "[encoded data removed]",
      "text/plain": [
       "<Figure size 640x480 with 1 Axes>"
      ]
     },
     "metadata": {},
     "output_type": "display_data"
    }
   ],
   "source": [
    "# Figure 1F\n",
    "plot_num_deviation(y_shallow_modern.loc[y1_ids], haplotype = 'Y1')"
   ]
  },
  {
   "cell_type": "code",
   "execution_count": 9,
   "id": "e1636f35",
   "metadata": {},
   "outputs": [
    {
     "name": "stdout",
     "output_type": "stream",
     "text": [
      "Deep-sequenced Y1 haplotype at these SNPs matches shallow-sequenced: True\n",
      "Deep-sequenced Y1 haplotype at these SNPs has variation: False\n",
      "SNPs where deep-sequenced Y1 samples have variation:\n"
     ]
    },
    {
     "data": {
      "text/html": [
       "<div>\n",
       "<style scoped>\n",
       "    .dataframe tbody tr th:only-of-type {\n",
       "        vertical-align: middle;\n",
       "    }\n",
       "\n",
       "    .dataframe tbody tr th {\n",
       "        vertical-align: top;\n",
       "    }\n",
       "\n",
       "    .dataframe thead th {\n",
       "        text-align: right;\n",
       "    }\n",
       "</style>\n",
       "<table border=\"1\" class=\"dataframe\">\n",
       "  <thead>\n",
       "    <tr style=\"text-align: right;\">\n",
       "      <th></th>\n",
       "      <th>15473895</th>\n",
       "    </tr>\n",
       "  </thead>\n",
       "  <tbody>\n",
       "    <tr>\n",
       "      <th>00077E7A63</th>\n",
       "      <td>A</td>\n",
       "    </tr>\n",
       "    <tr>\n",
       "      <th>00077EA7E6</th>\n",
       "      <td>A</td>\n",
       "    </tr>\n",
       "    <tr>\n",
       "      <th>000789FFAC</th>\n",
       "      <td>A</td>\n",
       "    </tr>\n",
       "    <tr>\n",
       "      <th>000789FFD3</th>\n",
       "      <td>A</td>\n",
       "    </tr>\n",
       "    <tr>\n",
       "      <th>000789FFF9</th>\n",
       "      <td>A</td>\n",
       "    </tr>\n",
       "    <tr>\n",
       "      <th>00078A0058</th>\n",
       "      <td>A</td>\n",
       "    </tr>\n",
       "    <tr>\n",
       "      <th>00078A00AC</th>\n",
       "      <td>A</td>\n",
       "    </tr>\n",
       "    <tr>\n",
       "      <th>00078A01C0</th>\n",
       "      <td>A</td>\n",
       "    </tr>\n",
       "    <tr>\n",
       "      <th>00078A01D8</th>\n",
       "      <td>A</td>\n",
       "    </tr>\n",
       "    <tr>\n",
       "      <th>00078A021A</th>\n",
       "      <td>A</td>\n",
       "    </tr>\n",
       "    <tr>\n",
       "      <th>00078A0244</th>\n",
       "      <td>A</td>\n",
       "    </tr>\n",
       "    <tr>\n",
       "      <th>00078A0255</th>\n",
       "      <td>A</td>\n",
       "    </tr>\n",
       "    <tr>\n",
       "      <th>00078A07A2</th>\n",
       "      <td>A</td>\n",
       "    </tr>\n",
       "    <tr>\n",
       "      <th>00078A0A43</th>\n",
       "      <td>A</td>\n",
       "    </tr>\n",
       "    <tr>\n",
       "      <th>00078A1807</th>\n",
       "      <td>A</td>\n",
       "    </tr>\n",
       "    <tr>\n",
       "      <th>00078A1863</th>\n",
       "      <td>A</td>\n",
       "    </tr>\n",
       "    <tr>\n",
       "      <th>00078A186C</th>\n",
       "      <td>A</td>\n",
       "    </tr>\n",
       "    <tr>\n",
       "      <th>00078A18F7</th>\n",
       "      <td>A</td>\n",
       "    </tr>\n",
       "    <tr>\n",
       "      <th>00078A1905</th>\n",
       "      <td>A</td>\n",
       "    </tr>\n",
       "    <tr>\n",
       "      <th>00078A1937</th>\n",
       "      <td>A</td>\n",
       "    </tr>\n",
       "    <tr>\n",
       "      <th>00078A193E</th>\n",
       "      <td>A</td>\n",
       "    </tr>\n",
       "    <tr>\n",
       "      <th>00078A194B</th>\n",
       "      <td>A</td>\n",
       "    </tr>\n",
       "    <tr>\n",
       "      <th>00078A19A7</th>\n",
       "      <td>A</td>\n",
       "    </tr>\n",
       "    <tr>\n",
       "      <th>00078A19B7</th>\n",
       "      <td>A</td>\n",
       "    </tr>\n",
       "    <tr>\n",
       "      <th>00078A1A16</th>\n",
       "      <td>A</td>\n",
       "    </tr>\n",
       "    <tr>\n",
       "      <th>00078A1A2B</th>\n",
       "      <td>A</td>\n",
       "    </tr>\n",
       "    <tr>\n",
       "      <th>00078A1B05</th>\n",
       "      <td>C</td>\n",
       "    </tr>\n",
       "    <tr>\n",
       "      <th>00078A22EB</th>\n",
       "      <td>A</td>\n",
       "    </tr>\n",
       "    <tr>\n",
       "      <th>00078A2463</th>\n",
       "      <td>A</td>\n",
       "    </tr>\n",
       "  </tbody>\n",
       "</table>\n",
       "</div>"
      ],
      "text/plain": [
       "           15473895\n",
       "00077E7A63        A\n",
       "00077EA7E6        A\n",
       "000789FFAC        A\n",
       "000789FFD3        A\n",
       "000789FFF9        A\n",
       "00078A0058        A\n",
       "00078A00AC        A\n",
       "00078A01C0        A\n",
       "00078A01D8        A\n",
       "00078A021A        A\n",
       "00078A0244        A\n",
       "00078A0255        A\n",
       "00078A07A2        A\n",
       "00078A0A43        A\n",
       "00078A1807        A\n",
       "00078A1863        A\n",
       "00078A186C        A\n",
       "00078A18F7        A\n",
       "00078A1905        A\n",
       "00078A1937        A\n",
       "00078A193E        A\n",
       "00078A194B        A\n",
       "00078A19A7        A\n",
       "00078A19B7        A\n",
       "00078A1A16        A\n",
       "00078A1A2B        A\n",
       "00078A1B05        C\n",
       "00078A22EB        A\n",
       "00078A2463        A"
      ]
     },
     "execution_count": 9,
     "metadata": {},
     "output_type": "execute_result"
    }
   ],
   "source": [
    "y1_vary_cols = y1_shallow_consensus.index\n",
    "y1_deep_modern = y_deep_modern.filter(y1_ids, axis = 'index')\n",
    "y1_deep_consensus = y1_deep_modern[y1_vary_cols].mode().iloc[0]\n",
    "\n",
    "print('Deep-sequenced Y1 haplotype at these SNPs matches shallow-sequenced:'\\\n",
    "      f' {all(y1_deep_consensus == y1_shallow_consensus)}')\n",
    "\n",
    "print('Deep-sequenced Y1 haplotype at these SNPs has variation:'\\\n",
    "      f' {any(y1_deep_modern[y1_vary_cols].nunique() != 1)}')\n",
    "\n",
    "print('SNPs where deep-sequenced Y1 samples have variation:')\n",
    "\n",
    "y1_deep_modern.loc[:, y1_deep_modern.nunique() != 1]"
   ]
  },
  {
   "cell_type": "markdown",
   "id": "6db73468",
   "metadata": {},
   "source": [
    "Identify founder matches for Y2 rats. This is *Figure 1E*."
   ]
  },
  {
   "cell_type": "code",
   "execution_count": 10,
   "id": "3d1dfe9e",
   "metadata": {},
   "outputs": [
    {
     "name": "stdout",
     "output_type": "stream",
     "text": [
      "Filtering out 4240 variants for MAF=0\n"
     ]
    },
    {
     "data": {
      "image/png": "[encoded data removed]",
      "text/plain": [
       "<Figure size 238x120 with 1 Axes>"
      ]
     },
     "metadata": {},
     "output_type": "display_data"
    },
    {
     "data": {
      "image/png": "[encoded data removed]",
      "text/plain": [
       "<Figure size 340x100 with 1 Axes>"
      ]
     },
     "metadata": {},
     "output_type": "display_data"
    }
   ],
   "source": [
    "y2_shallow_consensus = align_modern_where_founders_vary(\n",
    "    y_founders.loc[['M520', 'WKY', 'F344', 'BUF', 'WN']], \n",
    "    y_shallow_modern.loc[y2_ids], haplotype = 'Y2', width = 3.4\n",
    "    )"
   ]
  },
  {
   "cell_type": "markdown",
   "id": "7b648210",
   "metadata": {},
   "source": [
    "Check for significant devation from the consensus Y2 haplotype."
   ]
  },
  {
   "cell_type": "code",
   "execution_count": 11,
   "id": "fa4fb506",
   "metadata": {},
   "outputs": [
    {
     "data": {
      "text/plain": [
       "8165793     88\n",
       "8193120     11\n",
       "14324036    15\n",
       "Name: num_deviants, dtype: int64"
      ]
     },
     "execution_count": 11,
     "metadata": {},
     "output_type": "execute_result"
    },
    {
     "data": {
      "image/png": "[encoded data removed]",
      "text/plain": [
       "<Figure size 640x480 with 1 Axes>"
      ]
     },
     "metadata": {},
     "output_type": "display_data"
    }
   ],
   "source": [
    "# Figure 1G\n",
    "plot_num_deviation(y_shallow_modern.loc[y2_ids], 'Y2')"
   ]
  },
  {
   "cell_type": "code",
   "execution_count": 12,
   "id": "5c632545",
   "metadata": {},
   "outputs": [
    {
     "name": "stdout",
     "output_type": "stream",
     "text": [
      "Deep-sequenced Y2 haplotype at these SNPs matches shallow-sequenced: True\n",
      "Deep-sequenced Y2 haplotype at these SNPs has variation: False\n",
      "SNPs where deep-sequenced Y2 samples have variation:\n"
     ]
    },
    {
     "data": {
      "text/html": [
       "<div>\n",
       "<style scoped>\n",
       "    .dataframe tbody tr th:only-of-type {\n",
       "        vertical-align: middle;\n",
       "    }\n",
       "\n",
       "    .dataframe tbody tr th {\n",
       "        vertical-align: top;\n",
       "    }\n",
       "\n",
       "    .dataframe thead th {\n",
       "        text-align: right;\n",
       "    }\n",
       "</style>\n",
       "<table border=\"1\" class=\"dataframe\">\n",
       "  <thead>\n",
       "    <tr style=\"text-align: right;\">\n",
       "      <th></th>\n",
       "      <th>2270424</th>\n",
       "      <th>3868668</th>\n",
       "    </tr>\n",
       "  </thead>\n",
       "  <tbody>\n",
       "    <tr>\n",
       "      <th>00077E67B5</th>\n",
       "      <td>C</td>\n",
       "      <td>C</td>\n",
       "    </tr>\n",
       "    <tr>\n",
       "      <th>00077E8336</th>\n",
       "      <td>G</td>\n",
       "      <td>C</td>\n",
       "    </tr>\n",
       "    <tr>\n",
       "      <th>000789FF7D</th>\n",
       "      <td>C</td>\n",
       "      <td>C</td>\n",
       "    </tr>\n",
       "    <tr>\n",
       "      <th>000789FF94</th>\n",
       "      <td>None</td>\n",
       "      <td>A</td>\n",
       "    </tr>\n",
       "    <tr>\n",
       "      <th>000789FFF0</th>\n",
       "      <td>C</td>\n",
       "      <td>C</td>\n",
       "    </tr>\n",
       "    <tr>\n",
       "      <th>00078A002C</th>\n",
       "      <td>None</td>\n",
       "      <td>None</td>\n",
       "    </tr>\n",
       "    <tr>\n",
       "      <th>00078A0215</th>\n",
       "      <td>C</td>\n",
       "      <td>C</td>\n",
       "    </tr>\n",
       "    <tr>\n",
       "      <th>00078A02CB</th>\n",
       "      <td>C</td>\n",
       "      <td>C</td>\n",
       "    </tr>\n",
       "    <tr>\n",
       "      <th>00078A09B1</th>\n",
       "      <td>C</td>\n",
       "      <td>C</td>\n",
       "    </tr>\n",
       "    <tr>\n",
       "      <th>00078A1707</th>\n",
       "      <td>C</td>\n",
       "      <td>C</td>\n",
       "    </tr>\n",
       "    <tr>\n",
       "      <th>00078A1875</th>\n",
       "      <td>None</td>\n",
       "      <td>C</td>\n",
       "    </tr>\n",
       "    <tr>\n",
       "      <th>00078A18A7</th>\n",
       "      <td>None</td>\n",
       "      <td>C</td>\n",
       "    </tr>\n",
       "    <tr>\n",
       "      <th>00078A192C</th>\n",
       "      <td>None</td>\n",
       "      <td>C</td>\n",
       "    </tr>\n",
       "    <tr>\n",
       "      <th>00078A1942</th>\n",
       "      <td>C</td>\n",
       "      <td>C</td>\n",
       "    </tr>\n",
       "    <tr>\n",
       "      <th>00078A1F34</th>\n",
       "      <td>C</td>\n",
       "      <td>C</td>\n",
       "    </tr>\n",
       "  </tbody>\n",
       "</table>\n",
       "</div>"
      ],
      "text/plain": [
       "           2270424 3868668\n",
       "00077E67B5       C       C\n",
       "00077E8336       G       C\n",
       "000789FF7D       C       C\n",
       "000789FF94    None       A\n",
       "000789FFF0       C       C\n",
       "00078A002C    None    None\n",
       "00078A0215       C       C\n",
       "00078A02CB       C       C\n",
       "00078A09B1       C       C\n",
       "00078A1707       C       C\n",
       "00078A1875    None       C\n",
       "00078A18A7    None       C\n",
       "00078A192C    None       C\n",
       "00078A1942       C       C\n",
       "00078A1F34       C       C"
      ]
     },
     "execution_count": 12,
     "metadata": {},
     "output_type": "execute_result"
    }
   ],
   "source": [
    "y2_vary_cols = y2_shallow_consensus.index\n",
    "y2_deep_modern = y_deep_modern.filter(y2_ids, axis = 'index')\n",
    "\n",
    "# deep-sequencing doesn't have all of these SNPs\n",
    "shared_y2_vary_cols = y2_deep_modern.columns.intersection(y2_vary_cols)\n",
    "y2_deep_consensus = y2_deep_modern[shared_y2_vary_cols].mode().iloc[0]\n",
    "\n",
    "print('Deep-sequenced Y2 haplotype at these SNPs matches shallow-sequenced:'\\\n",
    "      f' {all(y2_deep_consensus == y2_shallow_consensus[shared_y2_vary_cols])}')\n",
    "\n",
    "print('Deep-sequenced Y2 haplotype at these SNPs has variation:'\\\n",
    "      f' {any(y2_deep_modern[shared_y2_vary_cols].nunique() != 1)}')\n",
    "\n",
    "print('SNPs where deep-sequenced Y2 samples have variation:')\n",
    "\n",
    "y2_deep_modern.loc[:, y2_deep_modern.nunique() != 1]"
   ]
  }
 ],
 "metadata": {
  "kernelspec": {
   "display_name": "Python 3 (ipykernel)",
   "language": "python",
   "name": "python3"
  },
  "language_info": {
   "codemirror_mode": {
    "name": "ipython",
    "version": 3
   },
   "file_extension": ".py",
   "mimetype": "text/x-python",
   "name": "python",
   "nbconvert_exporter": "python",
   "pygments_lexer": "ipython3",
   "version": "3.10.11"
  }
 },
 "nbformat": 4,
 "nbformat_minor": 5
}
